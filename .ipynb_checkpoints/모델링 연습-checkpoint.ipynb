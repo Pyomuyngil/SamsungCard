{
 "cells": [
  {
   "cell_type": "code",
   "execution_count": 1,
   "metadata": {},
   "outputs": [],
   "source": [
    "import pandas as pd\n",
    "import numpy as np\n",
    "%matplotlib inline\n",
    "import matplotlib.pyplot as plt\n",
    "import re\n",
    "import urllib.request\n",
    "from konlpy.tag import Okt\n",
    "from tensorflow.keras.preprocessing.text import Tokenizer\n",
    "from tensorflow.keras.preprocessing.sequence import pad_sequences"
   ]
  },
  {
   "cell_type": "code",
   "execution_count": 2,
   "metadata": {},
   "outputs": [],
   "source": [
    "data = pd.read_excel('공모전_제공_데이터(1차).xlsx', sheet_name = '학습데이터')"
   ]
  },
  {
   "cell_type": "code",
   "execution_count": 3,
   "metadata": {},
   "outputs": [],
   "source": [
    "data = data.rename(columns={'최종분류(우선순위 가장 높은것 선택)':'최종분류'})"
   ]
  },
  {
   "cell_type": "code",
   "execution_count": 4,
   "metadata": {},
   "outputs": [],
   "source": [
    "label = []\n",
    "for i in range(0, len(data)):\n",
    "    if data['최종분류'][i][0:2] == '불만':\n",
    "        label.append(-1)\n",
    "    elif data['최종분류'][i][0:2] == '중립':\n",
    "        label.append(0)\n",
    "    elif data['최종분류'][i][0:2] == '칭찬':\n",
    "        label.append(1)"
   ]
  },
  {
   "cell_type": "code",
   "execution_count": 6,
   "metadata": {},
   "outputs": [],
   "source": [
    "data['label'] = label"
   ]
  },
  {
   "cell_type": "code",
   "execution_count": 7,
   "metadata": {},
   "outputs": [],
   "source": [
    "contents = []\n",
    "labels = []\n",
    "for i in range(50,950):\n",
    "    contents.append(data['발화'][i])\n",
    "    labels.append(data['label'][i])"
   ]
  },
  {
   "cell_type": "code",
   "execution_count": 8,
   "metadata": {},
   "outputs": [],
   "source": [
    "train_data = pd.DataFrame({\"content\":contents, \"label\":labels})"
   ]
  },
  {
   "cell_type": "code",
   "execution_count": 9,
   "metadata": {},
   "outputs": [],
   "source": [
    "contents = []\n",
    "labels = []\n",
    "for i in range(0,50):\n",
    "    contents.append(data['발화'][i])\n",
    "    labels.append(data['label'][i])\n",
    "for i in range(950,1000):\n",
    "    contents.append(data['발화'][i])\n",
    "    labels.append(data['label'][i])"
   ]
  },
  {
   "cell_type": "code",
   "execution_count": 10,
   "metadata": {},
   "outputs": [],
   "source": [
    "test_data = pd.DataFrame({\"content\":contents, \"label\":labels})"
   ]
  },
  {
   "cell_type": "code",
   "execution_count": 11,
   "metadata": {},
   "outputs": [
    {
     "data": {
      "text/plain": [
       "<matplotlib.axes._subplots.AxesSubplot at 0x26cdc1f7430>"
      ]
     },
     "execution_count": 11,
     "metadata": {},
     "output_type": "execute_result"
    },
    {
     "data": {
      "image/png": "[encoded data removed]",
      "text/plain": [
       "<Figure size 432x288 with 1 Axes>"
      ]
     },
     "metadata": {
      "needs_background": "light"
     },
     "output_type": "display_data"
    }
   ],
   "source": [
    "train_data['label'].value_counts().plot(kind = 'bar')"
   ]
  },
  {
   "cell_type": "code",
   "execution_count": 12,
   "metadata": {},
   "outputs": [
    {
     "name": "stdout",
     "output_type": "stream",
     "text": [
      "   label  count\n",
      "0     -1    466\n",
      "1      0      7\n",
      "2      1    427\n"
     ]
    }
   ],
   "source": [
    "print(train_data.groupby('label').size().reset_index(name = 'count'))"
   ]
  },
  {
   "cell_type": "code",
   "execution_count": 13,
   "metadata": {},
   "outputs": [
    {
     "name": "stdout",
     "output_type": "stream",
     "text": [
      "False\n"
     ]
    }
   ],
   "source": [
    "print(train_data.isnull().values.any())"
   ]
  },
  {
   "cell_type": "code",
   "execution_count": 14,
   "metadata": {},
   "outputs": [
    {
     "name": "stdout",
     "output_type": "stream",
     "text": [
      "900\n"
     ]
    }
   ],
   "source": [
    "print(len(train_data))"
   ]
  },
  {
   "cell_type": "code",
   "execution_count": 15,
   "metadata": {},
   "outputs": [
    {
     "data": {
      "text/html": [
       "<div>\n",
       "<style scoped>\n",
       "    .dataframe tbody tr th:only-of-type {\n",
       "        vertical-align: middle;\n",
       "    }\n",
       "\n",
       "    .dataframe tbody tr th {\n",
       "        vertical-align: top;\n",
       "    }\n",
       "\n",
       "    .dataframe thead th {\n",
       "        text-align: right;\n",
       "    }\n",
       "</style>\n",
       "<table border=\"1\" class=\"dataframe\">\n",
       "  <thead>\n",
       "    <tr style=\"text-align: right;\">\n",
       "      <th></th>\n",
       "      <th>content</th>\n",
       "      <th>label</th>\n",
       "    </tr>\n",
       "  </thead>\n",
       "  <tbody>\n",
       "    <tr>\n",
       "      <th>0</th>\n",
       "      <td>상담원 연결대기 시간이 길지않으면 합니다</td>\n",
       "      <td>-1</td>\n",
       "    </tr>\n",
       "    <tr>\n",
       "      <th>1</th>\n",
       "      <td>상담원 통화 대기시간이 너무길다</td>\n",
       "      <td>-1</td>\n",
       "    </tr>\n",
       "    <tr>\n",
       "      <th>2</th>\n",
       "      <td>상담원과 통화하  대기시간이 너무길어요</td>\n",
       "      <td>-1</td>\n",
       "    </tr>\n",
       "    <tr>\n",
       "      <th>3</th>\n",
       "      <td>상담원과의 통화 대기시간이  짧앗으면  좋겟음ᆢ</td>\n",
       "      <td>-1</td>\n",
       "    </tr>\n",
       "    <tr>\n",
       "      <th>4</th>\n",
       "      <td>상담원과의 통화대기시간이 너무길다</td>\n",
       "      <td>-1</td>\n",
       "    </tr>\n",
       "  </tbody>\n",
       "</table>\n",
       "</div>"
      ],
      "text/plain": [
       "                      content  label\n",
       "0      상담원 연결대기 시간이 길지않으면 합니다     -1\n",
       "1           상담원 통화 대기시간이 너무길다     -1\n",
       "2       상담원과 통화하  대기시간이 너무길어요     -1\n",
       "3  상담원과의 통화 대기시간이  짧앗으면  좋겟음ᆢ     -1\n",
       "4          상담원과의 통화대기시간이 너무길다     -1"
      ]
     },
     "execution_count": 15,
     "metadata": {},
     "output_type": "execute_result"
    }
   ],
   "source": [
    "train_data.head(5)"
   ]
  },
  {
   "cell_type": "markdown",
   "metadata": {},
   "source": [
    "# 전처리"
   ]
  },
  {
   "cell_type": "code",
   "execution_count": 17,
   "metadata": {},
   "outputs": [
    {
     "data": {
      "text/html": [
       "<div>\n",
       "<style scoped>\n",
       "    .dataframe tbody tr th:only-of-type {\n",
       "        vertical-align: middle;\n",
       "    }\n",
       "\n",
       "    .dataframe tbody tr th {\n",
       "        vertical-align: top;\n",
       "    }\n",
       "\n",
       "    .dataframe thead th {\n",
       "        text-align: right;\n",
       "    }\n",
       "</style>\n",
       "<table border=\"1\" class=\"dataframe\">\n",
       "  <thead>\n",
       "    <tr style=\"text-align: right;\">\n",
       "      <th></th>\n",
       "      <th>content</th>\n",
       "      <th>label</th>\n",
       "    </tr>\n",
       "  </thead>\n",
       "  <tbody>\n",
       "    <tr>\n",
       "      <th>0</th>\n",
       "      <td>상담원 연결대기 시간이 길지않으면 합니다</td>\n",
       "      <td>-1</td>\n",
       "    </tr>\n",
       "    <tr>\n",
       "      <th>1</th>\n",
       "      <td>상담원 통화 대기시간이 너무길다</td>\n",
       "      <td>-1</td>\n",
       "    </tr>\n",
       "    <tr>\n",
       "      <th>2</th>\n",
       "      <td>상담원과 통화하  대기시간이 너무길어요</td>\n",
       "      <td>-1</td>\n",
       "    </tr>\n",
       "    <tr>\n",
       "      <th>3</th>\n",
       "      <td>상담원과의 통화 대기시간이  짧앗으면  좋겟음</td>\n",
       "      <td>-1</td>\n",
       "    </tr>\n",
       "    <tr>\n",
       "      <th>4</th>\n",
       "      <td>상담원과의 통화대기시간이 너무길다</td>\n",
       "      <td>-1</td>\n",
       "    </tr>\n",
       "  </tbody>\n",
       "</table>\n",
       "</div>"
      ],
      "text/plain": [
       "                     content  label\n",
       "0     상담원 연결대기 시간이 길지않으면 합니다     -1\n",
       "1          상담원 통화 대기시간이 너무길다     -1\n",
       "2      상담원과 통화하  대기시간이 너무길어요     -1\n",
       "3  상담원과의 통화 대기시간이  짧앗으면  좋겟음     -1\n",
       "4         상담원과의 통화대기시간이 너무길다     -1"
      ]
     },
     "execution_count": 17,
     "metadata": {},
     "output_type": "execute_result"
    }
   ],
   "source": [
    "train_data['content'] = train_data['content'].str.replace(\"[^ㄱ-ㅎㅏ-ㅣ가-힣 ]\",\"\")\n",
    "# 한글과 공백을 제외하고 모두 제거\n",
    "train_data[:5]"
   ]
  },
  {
   "cell_type": "code",
   "execution_count": 18,
   "metadata": {},
   "outputs": [
    {
     "name": "stdout",
     "output_type": "stream",
     "text": [
      "content    0\n",
      "label      0\n",
      "dtype: int64\n"
     ]
    }
   ],
   "source": [
    "train_data['content'] = train_data['content'].str.replace('^ +', \"\") # white space 데이터를 empty value로 변경\n",
    "train_data['content'].replace('', np.nan, inplace=True)\n",
    "print(train_data.isnull().sum())"
   ]
  },
  {
   "cell_type": "code",
   "execution_count": 19,
   "metadata": {},
   "outputs": [
    {
     "name": "stdout",
     "output_type": "stream",
     "text": [
      "전처리 후 테스트용 샘플의 개수 : 100\n"
     ]
    }
   ],
   "source": [
    "test_data.drop_duplicates(subset = ['content'], inplace=True) # document 열에서 중복인 내용이 있다면 중복 제거\n",
    "test_data['content'] = test_data['content'].str.replace(\"[^ㄱ-ㅎㅏ-ㅣ가-힣 ]\",\"\") # 정규 표현식 수행\n",
    "test_data['content'] = test_data['content'].str.replace('^ +', \"\") # 공백은 empty 값으로 변경\n",
    "test_data['content'].replace('', np.nan, inplace=True) # 공백은 Null 값으로 변경\n",
    "test_data = test_data.dropna(how='any') # Null 값 제거\n",
    "print('전처리 후 테스트용 샘플의 개수 :',len(test_data))"
   ]
  },
  {
   "cell_type": "markdown",
   "metadata": {},
   "source": [
    "# 토큰화"
   ]
  },
  {
   "cell_type": "markdown",
   "metadata": {},
   "source": [
    "### 불용어(한국어에서는 조사나 접속사 같은 것)을 제외하고, 한글의 기본단위 형태로 문장을 분할하는 것\n",
    "\n",
    "### 형태소 분석기를 통해 형태소로 분할한다.\n",
    "\n",
    "### 토큰화 라이브러리는 다양하게 존재하며 형태소 뿐만 아니라 단어와 품사가 매핑된 형태로도 토큰화 과정을 할 수 있다."
   ]
  },
  {
   "cell_type": "code",
   "execution_count": 20,
   "metadata": {},
   "outputs": [],
   "source": [
    "stopwords = ['의','가','이','은','들','는','좀','잘','걍','과','도','를','으로','자','에','와','한','하다']"
   ]
  },
  {
   "cell_type": "code",
   "execution_count": 21,
   "metadata": {},
   "outputs": [],
   "source": [
    "okt = Okt()"
   ]
  },
  {
   "cell_type": "code",
   "execution_count": 22,
   "metadata": {},
   "outputs": [
    {
     "data": {
      "text/plain": [
       "['오늘', '너무', '덥다', '죽', '을', '것', '같다', '.']"
      ]
     },
     "execution_count": 22,
     "metadata": {},
     "output_type": "execute_result"
    }
   ],
   "source": [
    "# morphs : 형태소로 분할하는 함수\n",
    "okt.morphs('오늘 너무 더워서 죽을 것 같다.', stem = True)"
   ]
  },
  {
   "cell_type": "code",
   "execution_count": 44,
   "metadata": {},
   "outputs": [],
   "source": [
    "X_train = []\n",
    "for sentence in train_data['content']:\n",
    "    temp_X = okt.morphs(sentence, stem=True) # 토큰화\n",
    "    temp_X = [word for word in temp_X if not word in stopwords] # 불용어 제거\n",
    "    X_train.append(temp_X)"
   ]
  },
  {
   "cell_type": "code",
   "execution_count": 45,
   "metadata": {},
   "outputs": [
    {
     "name": "stdout",
     "output_type": "stream",
     "text": [
      "[['상담', '원', '연결', '대기', '시간', '길다', '않다'], ['상담', '원', '통화', '대', '기', '시간', '너무', '길다'], ['상담', '원', '통화', '하', '대', '기', '시간', '너무', '기다']]\n"
     ]
    }
   ],
   "source": [
    "print(X_train[:3])"
   ]
  },
  {
   "cell_type": "code",
   "execution_count": 46,
   "metadata": {},
   "outputs": [],
   "source": [
    "X_test = []\n",
    "for sentence in test_data['content']:\n",
    "    temp_X = okt.morphs(sentence, stem=True) # 토큰화\n",
    "    temp_X = [word for word in temp_X if not word in stopwords] # 불용어 제거\n",
    "    X_test.append(temp_X)"
   ]
  },
  {
   "cell_type": "code",
   "execution_count": 47,
   "metadata": {},
   "outputs": [],
   "source": [
    "tokenizer = Tokenizer()\n",
    "tokenizer.fit_on_texts(X_train)"
   ]
  },
  {
   "cell_type": "code",
   "execution_count": 48,
   "metadata": {},
   "outputs": [
    {
     "name": "stdout",
     "output_type": "stream",
     "text": [
      "{'상담': 1, '친절하다': 2, '감사하다': 3, '너무': 4, '해주다': 5, '을': 6, '좋다': 7, '원': 8, '연결': 9, '통화': 10, '시간': 11, '감사': 12, '화면': 13, '친절': 14, '카드': 15, '되다': 16, '고객': 17, '직원': 18, '드리다': 19, '있다': 20, '상담사': 21, '대기': 22, '전화': 23, '불편하다': 24, '연': 25, '없다': 26, '설명': 27, '로': 28, '회비': 29, '정확하다': 30, '받다': 31, '터치': 32, '되어다': 33, '때': 34, '보이다': 35, '않다': 36, '까지': 37, '안내': 38, '응대': 39, '답변': 40, '바로': 41, '더': 42, '길다': 43, '처리': 44, '내용': 45, '서비스': 46, '같다': 47, '많다': 48, '다른': 49, '요': 50, '에서': 51, '시': 52, '다': 53, '기분': 54, '회사': 55, '빠르다': 56, '삼성': 57, '적': 58, '많이': 59, '아니다': 60, '보다': 61, '말투': 62, '것': 63, '비싸다': 64, '하': 65, '기다': 66, '매우': 67, '타': 68, '성': 69, '질문': 70, '문의': 71, '모르다': 72, '무': 73, '이자': 74, '만': 75, '넘다': 76, '어렵다': 77, '하고': 78, '주다': 79, '음성': 80, '대': 81, '기': 82, '사': 83, '삼': 84, '면': 85, '할부': 86, '과의': 87, '함': 88, '자다': 89, '분': 90, '디지털': 91, '힘들다': 92, '말': 93, '알다': 94, '선택': 95, '짧다': 96, '빨리': 97, '좀더': 98, '못': 99, '생각': 100, '오늘': 101, '쉬다': 102, '내': 103, '안되다': 104, '편하다': 105, '메뉴': 106, '복잡하다': 107, '원하다': 108, '신속하다': 109, '입장': 110, '필요하다': 111, '번': 112, '느끼다': 113, '인': 114, '방법': 115, '보험': 116, '오다': 117, '사용': 118, '앱': 119, '혜택': 120, '가다': 121, '니': 122, '느낌': 123, '듣다': 124, '대해': 125, '안': 126, '해': 127, '문자': 128, '걸리다': 129, '연결하다': 130, '조금': 131, '바라다': 132, '이다': 133, '님': 134, '다시': 135, '수': 136, '처음': 137, '에도': 138, '누르다': 139, '기다리다': 140, '없이': 141, '쓰다': 142, '신속': 143, '답답하다': 144, '대답': 145, '자세하다': 146, '사항': 147, '부분': 148, '후': 149, '나': 150, '에게': 151, '답': 152, '확인': 153, '끝': 154, '전화하다': 155, '포인트': 156, '이용': 157, '나오다': 158, '넘어가다': 159, '인데': 160, '텔레콤': 161, '골드': 162, '경우': 163, '부탁드리다': 164, '항상': 165, '들다': 166, '목소리': 167, '스럽다': 168, '상담시': 169, '교육': 170, '궁금하다': 171, '대한': 172, '알': 173, '상냥하다': 174, '아주': 175, '줄다': 176, '해결': 177, '정말': 178, '문제': 179, '응': 180, '상': 181, '불만': 182, '자동': 183, '멘트': 184, '주말': 185, '회원': 186, '감동': 187, '롯데': 188, '돼다': 189, '중': 190, '나쁘다': 191, '이해': 192, '라고': 193, '용이': 194, '업무': 195, '먼저': 196, '전': 197, '보고': 198, '만들다': 199, '기억': 200, '너': 201, '이기다': 202, '그': 203, '느껴지다': 204, '부족하다': 205, '부탁': 206, '그렇다': 207, '성의': 208, '식': 209, '일': 210, '정도': 211, '물어보다': 212, '이나': 213, '임': 214, 'ㅡ': 215, '제대로': 216, '불편': 217, '서': 218, '나다': 219, '맞다': 220, '사람': 221, '분들': 222, '형식': 223, '인지': 224, '차다': 225, '대출': 226, '연락': 227, '늘다': 228, '스마트폰': 229, '방식': 230, '계속': 231, '번호': 232, '찾기': 233, '고맙다': 234, '편리하다': 235, '마음': 236, '슴': 237, '게': 238, '지만': 239, '엔': 240, '가끔': 241, '더욱': 242, '짜증': 243, '이고': 244, '어': 245, '굉장하다': 246, '읍': 247, '불친절하다': 248, '대응': 249, '대화': 250, '지': 251, '별로': 252, '햇': 253, '발음': 254, '듯': 255, '속': 256, '같이': 257, '말씀': 258, '때문': 259, '제': 260, '시키다': 261, '싫다': 262, '크다': 263, '힘드다': 264, '개선': 265, '하루': 266, '곳': 267, '살다': 268, '적다': 269, '아': 270, '해당': 271, '광고': 272, '해지': 273, '자주': 274, '끝나다': 275, '쉽다': 276, '어려움': 277, 'ㅇ': 278, '디지털로': 279, '에는': 280, '제공': 281, '상환': 282, '신청': 283, '이체': 284, '부담': 285, '배송': 286, '적립': 287, '만족': 288, '콜센터': 289, '도와주다': 290, '래': 291, '걸': 292, '신한카드': 293, '넘기다': 294, '무시': 295, '간': 296, '빨': 297, '보다는': 298, '네': 299, '야': 300, '느리다': 301, '해주시': 302, '적극': 303, '영혼': 304, '말다': 305, '음': 306, '도움': 307, '명': 308, '배려': 309, '필요': 310, '톤': 311, '기대하다': 312, '보이': 313, '확실하다': 314, '불': 315, '늘': 316, '본인': 317, '줌': 318, '가장': 319, '해주': 320, '부족함': 321, '내다': 322, '차': 323, '체크': 324, '대시': 325, '파악': 326, '수고': 327, '얘기': 328, '기계': 329, '요청': 330, '최선': 331, '찾다': 332, '나이': 333, '께': 334, '말고': 335, '기간': 336, '권유': 337, '모바일': 338, '메인': 339, '버튼': 340, '주심': 341, '전환': 342, '싶다': 343, '직접': 344, '보기': 345, '으': 346, '바로바로': 347, '입력': 348, '한도': 349, '에서도': 350, '통한': 351, '가능하다': 352, '비': 353, '납부': 354, '캐피탈': 355, '에서는': 356, '소비자': 357, '최고': 358, '센터': 359, '만족스럽다': 360, '읍니': 361, '잘해주다': 362, '원님': 363, '모습': 364, '통신사': 365, '이야기': 366, '남다': 367, '경험': 368, '국민카드': 369, '발급': 370, '지체': 371, '무오': 372, '사의': 373, '린다': 374, '와의': 375, '그래도': 376, '주기': 377, '부족': 378, '지금껏': 379, '그저': 380, 'ㅁ': 381, '방금': 382, '뭔': 383, '투': 384, '박하다': 385, '잘알다': 386, '부자연': 387, '잇다': 388, '공부': 389, '끄다': 390, '그냥': 391, '정확': 392, '라서': 393, '그것': 394, 'ㅠㅠ': 395, '두': 396, '씩': 397, '데': 398, '비다': 399, '딱딱하다': 400, '불친절': 401, '조': 402, '이렇게': 403, '귀찮다': 404, '퉁': 405, '안좋다': 406, '코로나': 407, '동문서답': 408, '고': 409, '화가': 410, '번번': 411, '친철': 412, '알아듣다': 413, '예': 414, '물다': 415, '똑같다': 416, '문항': 417, '주시': 418, '홈쇼핑': 419, '불쾌하다': 420, 'ㅅ': 421, '남': 422, '가지': 423, '끊다': 424, '한다는': 425, '그리고': 426, '인거': 427, '내내': 428, '거슬리다': 429, '오래': 430, '따르다': 431, '마다': 432, '오랜': 433, '해보다': 434, '시스템': 435, '제발': 436, '관련': 437, '마케팅': 438, '메일': 439, '상품': 440, '근무': 441, '제휴': 442, '미리': 443, '이라고': 444, '사다': 445, '그만하다': 446, '복지': 447, '담당': 448, '첫': 449, '등': 450, '간편하다': 451, '인하다': 452, '부터': 453, '폰': 454, '구성': 455, '째': 456, '상단': 457, '라는': 458, '둘': 459, '담하다': 460, '통해': 461, '다소': 462, '간결하다': 463, '자꾸': 464, '움직이다': 465, '위해': 466, '이동': 467, '간단하다': 468, '바': 469, '어르신': 470, '핸드폰': 471, '기존': 472, '나중': 473, '여러': 474, '스마트': 475, '항목': 476, '절차': 477, '에선': 478, '홈페이지': 479, '누루': 480, '카톡': 481, '창': 482, '사실': 483, '곧바로': 484, '짜증나다': 485, '담다': 486, '번거롭다': 487, '디지탈': 488, '제한': 489, '거치다': 490, '제일': 491, '진행': 492, '과정': 493, '외': 494, '한번': 495, '예전': 496, '이상': 497, '저': 498, '비밀번호': 499, 'ㅜㅜ': 500, '보내다': 501, '자리': 502, '추가': 503, '및': 504, '건': 505, '관리': 506, '맘대로': 507, '줄': 508, '저렴하다': 509, '면제': 510, '부담스럽다': 511, '년': 512, '구입': 513, '왜': 514, '이벤트': 515, '응답': 516, '채팅': 517, '만족하다': 518, '톡': 519, '전용': 520, '놀라다': 521, '덥다': 522, '세': 523, '전체': 524, '유플러스': 525, '하나카드': 526, '한화': 527, '전자': 528, '생명': 529, '편': 530, '세다': 531, '엄청': 532, '미안하다': 533, '결': 534, '신한은행': 535, '한적': 536, '상당하다': 537, '전문성': 538, '진심': 539, '고마움': 540, '대하': 541, '하나은행': 542, 'ㅜㅜㅜ': 543, '이오': 544, '기다림': 545, '줄이다': 546, '짤': 547, 'ㅠ': 548, '길음': 549, '무걸': 550, '사도': 551, '마찬가지': 552, '반면': 553, '지연': 554, '라스': 555, '기르다': 556, '어떤': 557, '어리다': 558, '김': 559, '까지가': 560, '길댜': 561, '닥치다': 562, '절': 563, '바람': 564, '매': 565, '유': 566, '필요시': 567, '최저': 568, '복사': 569, '붙여넣기': 570, '시발': 571, '놈': 572, '또': 573, '몇번': 574, '재차': 575, '물어': 576, '힌': 577, '닷': 578, 'ㅡㅡ': 579, '역량': 580, '강화': 581, '전문': 582, '책임지다': 583, '존댓말': 584, '반': 585, '저러다': 586, '알수없음': 587, '최악': 588, '상투': 589, '천천히': 590, '끌다': 591, '거나': 592, '스크립트': 593, '읽다': 594, '의하다': 595, '중심': 596, '질질': 597, '밝다': 598, '미흡': 599, '의문': 600, '충분하다': 601, '말소리': 602, '돌아오다': 603, '가알': 604, '똑바로': 605, '새롭다': 606, '을해': 607, '아들': 608, 'ㅎㅐ': 609, '부정': 610, '확': 611, '으로만': 612, 'ㅈ': 613, '진정': 614, '꽝': 615, '만들기': 616, '금고': 617, '푸다': 618, '끌': 619, '지는': 620, '애매모호하다': 621, '받아들이다': 622, '움': 623, '번항': 624, '신': 625, '분운': 626, '야하다': 627, '전문직': 628, '식이': 629, '로봇': 630, '도중': 631, '자르다': 632, '경향': 633, '응함': 634, '빨르다': 635, '엇음': 636, '더욱더': 637, '발전': 638, '해하': 639, '반복': 640, '가타': 641, '요전': 642, '기초': 643, '발성': 644, '볍': 645, '표준어': 646, '훈련': 647, '각각': 648, '회피': 649, '판매점': 650, '사원': 651, '하니': 652, '참말': 653, '신가': 654, '요점': 655, '좋아하다': 656, '귀': 657, '찬': 658, '벽': 659, '이랑': 660, '이르다': 661, '박': 662, '언행': 663, '른것': 664, '선입견': 665, '웃음': 666, '내면': 667, '한텐': 668, '싱': 669, '등등': 670, '이해도': 671, '난해하다': 672, '예쁘다': 673, '려고': 674, '마스크': 675, '착용': 676, '결론': 677, '틀리다': 678, '강요': 679, '울다': 680, '고생': 681, '집중': 682, '바르다': 683, '분분': 684, '대신': 685, '실질': 686, '적절하다': 687, '심지어': 688, '지마켓': 689, '그러나': 690, '미흡하다': 691, '이상일': 692, '상당': 693, '권한': 694, '높이다': 695, '새': 696, '래야': 697, '사무': 698, '인사': 699, '뚝': 700, '버리다': 701, '뿐': 702, '이렇다': 703, '당황': 704, '억양': 705, '사투리': 706, '들이다': 707, '제인': 708, '호응': 709, '감정': 710, '상실하다': 711, '모든': 712, '가능성': 713, '열다': 714, '원함': 715, '약간': 716, '치다': 717, '경': 718, '노인': 719, '먹기': 720, '말로': 721, '서면': 722, '절실': 723, '혼내다': 724, '묻다': 725, '숙지': 726, '자본': 727, '인과': 728, '답안': 729, '아무렇다': 730, '본기': 731, '배': 732, '딥': 733, '강하다': 734, '불쾌감': 735, '잊다': 736, '금세': 737, '잊혀지다': 738, '따다': 739, '투성이': 740, '골절': 741, '만원': 742, '기침': 743, '이나라': 744, '축': 745, '다해': 746, '거의': 747, '비슷': 748, '묭': 749, '한동안': 750, '기대': 751, '꼼수': 752, '부리다': 753, '위주': 754, '봉': 755, '그만': 756, '제유': 757, '불미': 758, '놉': 759, '쓸데없이': 760, '려': 761, '활용': 762, '이면': 763, '지속': 764, '여부': 765, '계': 766, '다만': 767, '이미': 768, '가입': 769, '집요하다': 770, '서다': 771, '취소': 772, '베다': 773, '포유': 774, '복구': 775, '한마디': 776, '다시다': 777, '렌트': 778, '여': 779, '기도': 780, '저기': 781, '어디': 782, '익숙': 783, '치': 784, '보이지': 785, '볼': 786, '익숙하다': 787, '년령층': 788, '어려워지다': 789, '돌아가다': 790, '연령': 791, '감안': 792, '접근': 793, '요구': 794, '으로의': 795, '차례': 796, '시도': 797, '가능': 798, '가족': 799, '엊': 800, '었음': 801, '초기': 802, '잘못': 803, '세번': 804, '만에': 805, '하지만': 806, '크게': 807, '메세지': 808, '구': 809, '분할수': 810, '까지의': 811, '그게': 812, '해달라다': 813, '초이': 814, '헷갈리다': 815, '글씨': 816, '작다': 817, '동일하다': 818, '무엇': 819, '혼란': 820, '반드시': 821, '짐': 822, '누구': 823, '홈피': 824, '보지': 825, '누가': 826, '무의미': 827, '에러': 828, '결과': 829, '동시': 830, '걸다': 831, '소비': 832, '표시': 833, '파란색': 834, '이지만': 835, '한눈': 836, '또는': 837, '끼다': 838, '왓으': 839, '에보니': 840, '아래쪽': 841, '안보': 842, '여서': 843, '실수': 844, '종요': 845, '서툴다': 846, '헤맺음': 847, '에이': 848, '에스': 849, '으로나': 850, '권': 851, '맨': 852, '누르기': 853, '업': 854, '어느': 855, '눌로': 856, '먾': 857, '보앱': 858, '멀다': 859, '가기': 860, '취약': 861, '불필요하다': 862, '상황': 863, '여간': 864, '성가시다': 865, '라': 866, '급하다': 867, '하라': 868, '정신없이': 869, '질': 870, '직관': 871, '통화량': 872, '프로': 873, '줄어들다': 874, '챗봇': 875, '을사': 876, '용하다': 877, '살인': 878, '게뭐': 879, '단축키': 880, '연세': 881, '많으싴': 882, '고르다': 883, '맨트': 884, '번시': 885, '쳇': 886, '봇': 887, '인터페이스': 888, '이어지다': 889, '고전': 890, '클래식': 891, '없애다': 892, '통화시': 893, '단계': 894, '몐트': 895, '디지다': 896, '컬': 897, '랑': 898, '분동': 899, '헤멧': 900, '최초': 901, '손쉽다': 902, '전의': 903, '다지': 904, '털': 905, '기능': 906, '처럼': 907, '헤매다': 908, '생년': 909, '월일': 910, '번만': 911, '다음': 912, '충언': 913, '초반': 914, '애기': 915, '본': 916, '용한': 917, '중단': 918, '결재': 919, '론': 920, '어플': 921, '깔다': 922, '실상': 923, '드': 924, '역년': 925, '장기': 926, '단기': 927, '보완': 928, '출생': 929, '년도': 930, '일별': 931, '그래서': 932, '요일': 933, '통신': 934, '료': 935, '적부': 936, '아직': 937, '결제': 938, '날짜': 939, '쪽': 940, '택': 941, '아파트': 942, '조정': 943, '사용자': 944, '동의': 945, '얻다': 946, '거': 947, '지랄': 948, '이야': 949, '저렴': 950, '싸다': 951, 'ㄷ': 952, '낯': 953, '추다': 954, '전략': 955, '슬쩍': 956, '청구': 957, '참나': 958, '업다': 959, '염': 960, '에게는': 961, '불친철': 962, '업체': 963, '불성실하다': 964, '약': 965, '이행': 966, '전반': 967, '아쉽다': 968, '용다': 969, '알아보다': 970, '르노': 971, '합병': 972, '근저당': 973, '설정': 974, '요건': 975, '소멸': 976, '본사': 977, '몫': 978, '남기다': 979, '놓다': 980, '그대로': 981, '얼마나': 982, '판매': 983, '종료': 984, '개월': 985, '됫음': 986, '늘리다': 987, '어요': 988, '설사': 989, '줳으면좋겧': 990, '요망': 991, '주': 992, '되게': 993, '높아지다': 994, '구현': 995, '이오니': 996, '연겔': 997, '마': 998, '우': 999, '휴일': 1000, '염결': 1001, '보통': 1002, '십분': 1003, '응답속도': 1004, '원활하다': 1005, '등급': 1006, '별거': 1007, '괜히': 1008, '실시간': 1009, '이라': 1010, '덕분': 1011, '불평': 1012, '생기': 1013, '불구': 1014, '답장': 1015, '지정': 1016, '향후': 1017, '새벽': 1018, '플래티늄': 1019, '데스크': 1020, '이유': 1021, '이며': 1022, '제도': 1023, '오': 1024, '전담': 1025, '이전': 1026, '프리미엄': 1027, '운영': 1028, '유지': 1029, '우대': 1030, '부가세': 1031, '신고': 1032, '시기': 1033, '아이디어': 1034, '꼭': 1035, '포상': 1036, '애용': 1037, '설문': 1038, '어쩔': 1039, '개인정보': 1040, '대단하다': 1041, 'ㅎㅎㅎ': 1042, '엇습': 1043, '쥬셔': 1044, '눌': 1045, '다급하다': 1046, '심다': 1047, '롬': 1048, '언제나': 1049, '언제': 1050, '바쁘다': 1051, '시간대': 1052, '메우다': 1053, '헝상': 1054, '햇음': 1055, '계심': 1056, '죠': 1057, '셧': 1058, '도감': 1059, '안다': 1060, '재산세': 1061, '캐쉬': 1062, '냥': 1063, '밤': 1064, '늦다': 1065, '엘지': 1066, '적극성': 1067, '휠씬': 1068, '손해': 1069, '보럼': 1070, '차분하다': 1071, '심': 1072, '설치': 1073, '기사': 1074, '타다': 1075, '문의사항': 1076, '시대': 1077, '든': 1078, '자의': 1079, '통회': 1080, '구경만': 1081, '구매': 1082, '탤레콤': 1083, '갸': 1084, '막상막하': 1085, '엡니': 1086, '궁': 1087, '금사항': 1088, '자상하다': 1089, '스마일': 1090, '행복감': 1091, '좋아지다': 1092, '프로모션': 1093, '접수': 1094, '건강': 1095, '염려': 1096, '두고두고': 1097, '꿑': 1098, '나르다': 1099, '도하': 1100, '경청': 1101, '하드': 1102, '알켜': 1103, '줍다': 1104, '싣다': 1105, '가요': 1106, '최근': 1107, '편안하다': 1108, '인상': 1109, '물론': 1110, '편차': 1111, '인정': 1112, '전달': 1113, '예상': 1114, '여직원': 1115, '짱': 1116, '계좌': 1117, '계설': 1118, '성심': 1119, '성의껏': 1120, '사례': 1121, '구체': 1122, '우체국': 1123, '요구사항': 1124, '사건': 1125, '위': 1126, '감염': 1127, '힘': 1128, '인대': 1129, '법': 1130, '일도': 1131, '비우다': 1132, '엄청나다': 1133, '하이': 1134, '계시다': 1135, '말씀드리다': 1136, '부장': 1137, '김치냉장고': 1138, '황상': 1139, '친근하다': 1140, '현대': 1141, '중소': 1142, '복': 1143, '메': 1144, '리츠': 1145, '소중하다': 1146, '여기다': 1147, '들어주다': 1148, '신한': 1149, '애로': 1150, '노력': 1151, '따지다': 1152, '월': 1153, '정액': 1154, '추천': 1155, '참고': 1156, '글쎄요': 1157, '태도': 1158, '칭찬': 1159, '하나': 1160, '상세': 1161, '상기': 1162, '불안하다': 1163, '정보': 1164, '기쁘다': 1165, '안심': 1166, '공감': 1167, '보임': 1168, '여러가지': 1169, '애플': 1170, 'ㅆㅅㅌㅊ': 1171, '뛰어나다': 1172, '여유': 1173, '롭고': 1174, '고급': 1175, '호텔': 1176, '식당': 1177, '서빙': 1178, '비슷하다': 1179, '기재': 1180, '기네': 1181, '요지': 1182, '금도': 1183, '기억나다': 1184, '이어서': 1185, '부드럽다': 1186, '연체': 1187, '미납': 1188, '무한': 1189, '기타': 1190, '꼼꼼하다': 1191, '비교': 1192, '맞춤': 1193, '형': 1194, '지금': 1195, '가상': 1196, '미소': 1197, '못지않다': 1198}\n"
     ]
    }
   ],
   "source": [
    "print(tokenizer.word_index)"
   ]
  },
  {
   "cell_type": "code",
   "execution_count": 49,
   "metadata": {},
   "outputs": [
    {
     "name": "stdout",
     "output_type": "stream",
     "text": [
      "단어 집합(vocabulary)의 크기 : 1198\n",
      "등장 빈도가 1번 이하인 희귀 단어의 수: 656\n",
      "단어 집합에서 희귀 단어의 비율: 54.757929883138566\n",
      "전체 등장 빈도에서 희귀 단어 등장 빈도 비율: 9.741609741609741\n"
     ]
    }
   ],
   "source": [
    "threshold = 2\n",
    "total_cnt = len(tokenizer.word_index) # 단어의 수\n",
    "rare_cnt = 0 # 등장 빈도수가 threshold보다 작은 단어의 개수를 카운트\n",
    "total_freq = 0 # 훈련 데이터의 전체 단어 빈도수 총 합\n",
    "rare_freq = 0 # 등장 빈도수가 threshold보다 작은 단어의 등장 빈도수의 총 합\n",
    "\n",
    "# 단어와 빈도수의 쌍(pair)을 key와 value로 받는다.\n",
    "for key, value in tokenizer.word_counts.items():\n",
    "    total_freq = total_freq + value\n",
    "\n",
    "    # 단어의 등장 빈도수가 threshold보다 작으면\n",
    "    if(value < threshold):\n",
    "        rare_cnt = rare_cnt + 1\n",
    "        rare_freq = rare_freq + value\n",
    "\n",
    "print('단어 집합(vocabulary)의 크기 :',total_cnt)\n",
    "print('등장 빈도가 %s번 이하인 희귀 단어의 수: %s'%(threshold - 1, rare_cnt))\n",
    "print(\"단어 집합에서 희귀 단어의 비율:\", (rare_cnt / total_cnt)*100)\n",
    "print(\"전체 등장 빈도에서 희귀 단어 등장 빈도 비율:\", (rare_freq / total_freq)*100)"
   ]
  },
  {
   "cell_type": "code",
   "execution_count": 50,
   "metadata": {},
   "outputs": [
    {
     "name": "stdout",
     "output_type": "stream",
     "text": [
      "단어 집합의 크기 : 543\n"
     ]
    }
   ],
   "source": [
    "vocab_size = total_cnt - rare_cnt + 1\n",
    "print('단어 집합의 크기 :',vocab_size)"
   ]
  },
  {
   "cell_type": "code",
   "execution_count": 51,
   "metadata": {},
   "outputs": [],
   "source": [
    "tokenizer = Tokenizer(vocab_size) \n",
    "tokenizer.fit_on_texts(X_train)\n",
    "X_train = tokenizer.texts_to_sequences(X_train)\n",
    "X_test = tokenizer.texts_to_sequences(X_test)"
   ]
  },
  {
   "cell_type": "code",
   "execution_count": 52,
   "metadata": {},
   "outputs": [
    {
     "name": "stdout",
     "output_type": "stream",
     "text": [
      "[[1, 8, 9, 22, 11, 43, 36], [1, 8, 10, 81, 82, 11, 4, 43], [1, 8, 10, 65, 81, 82, 11, 4, 66]]\n"
     ]
    }
   ],
   "source": [
    "print(X_train[:3])"
   ]
  },
  {
   "cell_type": "code",
   "execution_count": 53,
   "metadata": {},
   "outputs": [],
   "source": [
    "y_train = np.array(train_data['label'])\n",
    "y_test = np.array(test_data['label'])"
   ]
  },
  {
   "cell_type": "code",
   "execution_count": 54,
   "metadata": {},
   "outputs": [],
   "source": [
    "drop_train = [index for index, sentence in enumerate(X_train) if len(sentence) < 1]"
   ]
  },
  {
   "cell_type": "code",
   "execution_count": 55,
   "metadata": {},
   "outputs": [
    {
     "name": "stdout",
     "output_type": "stream",
     "text": [
      "900\n",
      "900\n"
     ]
    },
    {
     "name": "stderr",
     "output_type": "stream",
     "text": [
      "C:\\Users\\muyng\\AppData\\Roaming\\Python\\Python38\\site-packages\\numpy\\core\\_asarray.py:83: VisibleDeprecationWarning: Creating an ndarray from ragged nested sequences (which is a list-or-tuple of lists-or-tuples-or ndarrays with different lengths or shapes) is deprecated. If you meant to do this, you must specify 'dtype=object' when creating the ndarray\n",
      "  return array(a, dtype, copy=False, order=order)\n"
     ]
    }
   ],
   "source": [
    "# 빈 샘플들을 제거\n",
    "X_train = np.delete(X_train, drop_train, axis=0)\n",
    "y_train = np.delete(y_train, drop_train, axis=0)\n",
    "print(len(X_train))\n",
    "print(len(y_train))"
   ]
  },
  {
   "cell_type": "code",
   "execution_count": 56,
   "metadata": {},
   "outputs": [
    {
     "name": "stdout",
     "output_type": "stream",
     "text": [
      "리뷰의 최대 길이 : 57\n",
      "리뷰의 평균 길이 : 6.753333333333333\n"
     ]
    },
    {
     "data": {
      "image/png": "[encoded data removed]",
      "text/plain": [
       "<Figure size 432x288 with 1 Axes>"
      ]
     },
     "metadata": {
      "needs_background": "light"
     },
     "output_type": "display_data"
    }
   ],
   "source": [
    "print('리뷰의 최대 길이 :',max(len(l) for l in X_train))\n",
    "print('리뷰의 평균 길이 :',sum(map(len, X_train))/len(X_train))\n",
    "plt.hist([len(s) for s in X_train], bins=50)\n",
    "plt.xlabel('length of samples')\n",
    "plt.ylabel('number of samples')\n",
    "plt.show()"
   ]
  },
  {
   "cell_type": "code",
   "execution_count": 57,
   "metadata": {},
   "outputs": [],
   "source": [
    "def below_threshold_len(max_len, nested_list):\n",
    "  cnt = 0\n",
    "  for s in nested_list:\n",
    "    if(len(s) <= max_len):\n",
    "        cnt = cnt + 1\n",
    "  print('전체 샘플 중 길이가 %s 이하인 샘플의 비율: %s'%(max_len, (cnt / len(nested_list))*100))"
   ]
  },
  {
   "cell_type": "code",
   "execution_count": 58,
   "metadata": {},
   "outputs": [
    {
     "name": "stdout",
     "output_type": "stream",
     "text": [
      "전체 샘플 중 길이가 20 이하인 샘플의 비율: 96.11111111111111\n"
     ]
    }
   ],
   "source": [
    "max_len = 20\n",
    "below_threshold_len(max_len, X_train)"
   ]
  },
  {
   "cell_type": "code",
   "execution_count": 59,
   "metadata": {},
   "outputs": [],
   "source": [
    "X_train = pad_sequences(X_train, maxlen = max_len)\n",
    "X_test = pad_sequences(X_test, maxlen = max_len)"
   ]
  },
  {
   "cell_type": "code",
   "execution_count": 60,
   "metadata": {},
   "outputs": [],
   "source": [
    "from tensorflow.keras.layers import Embedding, Dense, LSTM\n",
    "from tensorflow.keras.models import Sequential\n",
    "from tensorflow.keras.models import load_model\n",
    "from tensorflow.keras.callbacks import EarlyStopping, ModelCheckpoint"
   ]
  },
  {
   "cell_type": "code",
   "execution_count": 70,
   "metadata": {},
   "outputs": [
    {
     "name": "stdout",
     "output_type": "stream",
     "text": [
      "Epoch 1/10\n",
      "81/81 [==============================] - 5s 21ms/step - loss: 0.0000e+00 - accuracy: 0.0044 - val_loss: 0.0000e+00 - val_accuracy: 0.0000e+00\n",
      "Epoch 2/10\n",
      "81/81 [==============================] - 1s 12ms/step - loss: 0.0000e+00 - accuracy: 0.0070 - val_loss: 0.0000e+00 - val_accuracy: 0.0000e+00\n",
      "Epoch 3/10\n",
      "81/81 [==============================] - 1s 17ms/step - loss: 0.0000e+00 - accuracy: 0.0117 - val_loss: 0.0000e+00 - val_accuracy: 0.0000e+00\n",
      "Epoch 4/10\n",
      "81/81 [==============================] - 1s 13ms/step - loss: 0.0000e+00 - accuracy: 0.0043 - val_loss: 0.0000e+00 - val_accuracy: 0.0000e+00\n",
      "Epoch 5/10\n",
      "81/81 [==============================] - 1s 12ms/step - loss: 0.0000e+00 - accuracy: 0.0068 - val_loss: 0.0000e+00 - val_accuracy: 0.0000e+00\n",
      "Epoch 6/10\n",
      "81/81 [==============================] - 1s 13ms/step - loss: 0.0000e+00 - accuracy: 0.0051 - val_loss: 0.0000e+00 - val_accuracy: 0.0000e+00\n",
      "Epoch 7/10\n",
      "81/81 [==============================] - 1s 12ms/step - loss: 0.0000e+00 - accuracy: 0.0053 - val_loss: 0.0000e+00 - val_accuracy: 0.0000e+00\n",
      "Epoch 8/10\n",
      "81/81 [==============================] - 1s 12ms/step - loss: 0.0000e+00 - accuracy: 0.0066 - val_loss: 0.0000e+00 - val_accuracy: 0.0000e+00\n",
      "Epoch 9/10\n",
      "81/81 [==============================] - 1s 13ms/step - loss: 0.0000e+00 - accuracy: 0.0075 - val_loss: 0.0000e+00 - val_accuracy: 0.0000e+00\n",
      "Epoch 10/10\n",
      "81/81 [==============================] - 1s 12ms/step - loss: 0.0000e+00 - accuracy: 0.0114 - val_loss: 0.0000e+00 - val_accuracy: 0.0000e+00\n"
     ]
    }
   ],
   "source": [
    "model = Sequential()\n",
    "model.add(Embedding(vocab_size, 100))\n",
    "model.add(LSTM(128))\n",
    "model.add(Dense(1, activation='sigmoid'))\n",
    "\n",
    "model.compile(optimizer='adam', loss='categorical_crossentropy', metrics=['accuracy']) \n",
    "history = model.fit(X_train, y_train, epochs=10, batch_size=10, validation_split = 0.1)"
   ]
  },
  {
   "cell_type": "code",
   "execution_count": 62,
   "metadata": {},
   "outputs": [],
   "source": [
    "es = EarlyStopping(monitor='val_loss', mode='min', verbose=1, patience=4)\n",
    "mc = ModelCheckpoint('best_model.h5', monitor='val_acc', mode='max', verbose=1, save_best_only=True)"
   ]
  },
  {
   "cell_type": "code",
   "execution_count": 68,
   "metadata": {},
   "outputs": [
    {
     "name": "stdout",
     "output_type": "stream",
     "text": [
      "Epoch 1/15\n",
      "14/14 [==============================] - 4s 76ms/step - loss: -3.3243 - acc: 0.0051 - val_loss: 19.7427 - val_acc: 0.0000e+00\n",
      "\n",
      "Epoch 00001: val_acc did not improve from 0.00000\n",
      "Epoch 2/15\n",
      "14/14 [==============================] - 0s 22ms/step - loss: -6.3491 - acc: 0.0101 - val_loss: 17.1504 - val_acc: 0.0000e+00\n",
      "\n",
      "Epoch 00002: val_acc did not improve from 0.00000\n",
      "Epoch 3/15\n",
      "14/14 [==============================] - 0s 21ms/step - loss: -8.3393 - acc: 0.0118 - val_loss: 18.8208 - val_acc: 0.0000e+00\n",
      "\n",
      "Epoch 00003: val_acc did not improve from 0.00000\n",
      "Epoch 4/15\n",
      "14/14 [==============================] - 0s 22ms/step - loss: -11.9964 - acc: 0.0231 - val_loss: 23.7881 - val_acc: 0.0000e+00\n",
      "\n",
      "Epoch 00004: val_acc did not improve from 0.00000\n",
      "Epoch 5/15\n",
      "14/14 [==============================] - 0s 23ms/step - loss: -12.6344 - acc: 0.1293 - val_loss: 21.1669 - val_acc: 0.0000e+00\n",
      "\n",
      "Epoch 00005: val_acc did not improve from 0.00000\n",
      "Epoch 6/15\n",
      "14/14 [==============================] - 1s 44ms/step - loss: -14.4113 - acc: 0.2050 - val_loss: 29.2343 - val_acc: 0.0000e+00\n",
      "\n",
      "Epoch 00006: val_acc did not improve from 0.00000\n",
      "Epoch 00006: early stopping\n"
     ]
    }
   ],
   "source": [
    "model.compile(optimizer='rmsprop', loss='binary_crossentropy', metrics=['acc'])\n",
    "history = model.fit(X_train, y_train, epochs=15, callbacks=[es, mc], batch_size=`0, validation_split=0.1)"
   ]
  },
  {
   "cell_type": "code",
   "execution_count": 64,
   "metadata": {},
   "outputs": [
    {
     "name": "stdout",
     "output_type": "stream",
     "text": [
      "4/4 [==============================] - 1s 6ms/step - loss: -0.0138 - acc: 0.0000e+00\n",
      "\n",
      " 테스트 정확도: 0.0000\n"
     ]
    }
   ],
   "source": [
    "loaded_model = load_model('best_model.h5')\n",
    "print(\"\\n 테스트 정확도: %.4f\" % (loaded_model.evaluate(X_test, y_test)[1]))"
   ]
  },
  {
   "cell_type": "code",
   "execution_count": 65,
   "metadata": {},
   "outputs": [],
   "source": [
    "def sentiment_predict(new_sentence):\n",
    "  new_sentence = okt.morphs(new_sentence, stem=True) # 토큰화\n",
    "  new_sentence = [word for word in new_sentence if not word in stopwords] # 불용어 제거\n",
    "  encoded = tokenizer.texts_to_sequences([new_sentence]) # 정수 인코딩\n",
    "  pad_new = pad_sequences(encoded, maxlen = max_len) # 패딩\n",
    "  score = float(loaded_model.predict(pad_new)) # 예측\n",
    "  if(score > 0.5):\n",
    "    print(\"{:.2f}% 확률로 긍정 리뷰입니다.\\n\".format(score * 100))\n",
    "  else:\n",
    "    print(\"{:.2f}% 확률로 부정 리뷰입니다.\\n\".format((1 - score) * 100))"
   ]
  },
  {
   "cell_type": "code",
   "execution_count": 66,
   "metadata": {},
   "outputs": [
    {
     "name": "stdout",
     "output_type": "stream",
     "text": [
      "100.00% 확률로 부정 리뷰입니다.\n",
      "\n"
     ]
    }
   ],
   "source": [
    "sentiment_predict('상담을 너무 잘해줘요')"
   ]
  },
  {
   "cell_type": "code",
   "execution_count": 75,
   "metadata": {},
   "outputs": [
    {
     "name": "stdout",
     "output_type": "stream",
     "text": [
      "100.00% 확률로 부정 리뷰입니다.\n",
      "\n"
     ]
    }
   ],
   "source": [
    "sentiment_predict('상담이 별로예요')"
   ]
  },
  {
   "cell_type": "code",
   "execution_count": 76,
   "metadata": {},
   "outputs": [
    {
     "name": "stdout",
     "output_type": "stream",
     "text": [
      "100.00% 확률로 부정 리뷰입니다.\n",
      "\n"
     ]
    }
   ],
   "source": [
    "sentiment_predict('친절하지만 설명을 잘 못한거 같아요')"
   ]
  },
  {
   "cell_type": "code",
   "execution_count": 73,
   "metadata": {},
   "outputs": [
    {
     "data": {
      "text/plain": [
       "array([-1, -1, -1, -1, -1, -1, -1, -1, -1, -1, -1, -1, -1, -1, -1, -1, -1,\n",
       "       -1, -1, -1, -1, -1, -1, -1, -1, -1, -1, -1, -1, -1, -1, -1, -1, -1,\n",
       "       -1, -1, -1, -1, -1, -1, -1, -1, -1, -1, -1, -1, -1, -1, -1, -1, -1,\n",
       "       -1, -1, -1, -1, -1, -1, -1, -1, -1, -1, -1, -1, -1, -1, -1, -1, -1,\n",
       "       -1, -1, -1, -1, -1, -1, -1, -1, -1, -1, -1, -1, -1, -1, -1, -1, -1,\n",
       "       -1, -1, -1, -1, -1, -1, -1, -1, -1, -1, -1, -1, -1, -1, -1, -1, -1,\n",
       "       -1, -1, -1, -1, -1, -1, -1, -1, -1, -1, -1, -1, -1, -1, -1, -1, -1,\n",
       "       -1, -1, -1, -1, -1, -1, -1, -1, -1, -1, -1, -1, -1, -1, -1, -1, -1,\n",
       "       -1, -1, -1, -1, -1, -1, -1, -1, -1, -1, -1, -1, -1, -1, -1, -1, -1,\n",
       "       -1, -1, -1, -1, -1, -1, -1, -1, -1, -1, -1, -1, -1, -1, -1, -1, -1,\n",
       "       -1, -1, -1, -1, -1, -1, -1, -1, -1, -1, -1, -1, -1, -1, -1, -1, -1,\n",
       "       -1, -1, -1, -1, -1, -1, -1, -1, -1, -1, -1, -1, -1, -1, -1, -1, -1,\n",
       "       -1, -1, -1, -1, -1, -1, -1, -1, -1, -1, -1, -1, -1, -1, -1, -1, -1,\n",
       "       -1, -1, -1, -1, -1, -1, -1, -1, -1, -1, -1, -1, -1, -1, -1, -1, -1,\n",
       "       -1, -1, -1, -1, -1, -1, -1, -1, -1, -1, -1, -1, -1, -1, -1, -1, -1,\n",
       "       -1, -1, -1, -1, -1, -1, -1, -1, -1, -1, -1, -1, -1, -1, -1, -1, -1,\n",
       "       -1, -1, -1, -1, -1, -1, -1, -1, -1, -1, -1, -1, -1, -1, -1, -1, -1,\n",
       "       -1, -1, -1, -1, -1, -1, -1, -1, -1, -1, -1, -1, -1, -1, -1, -1, -1,\n",
       "       -1, -1, -1, -1, -1, -1, -1, -1, -1, -1, -1, -1, -1, -1, -1, -1, -1,\n",
       "       -1, -1, -1, -1, -1, -1, -1, -1, -1, -1, -1, -1, -1, -1, -1, -1, -1,\n",
       "       -1, -1, -1, -1, -1, -1, -1, -1, -1, -1, -1, -1, -1, -1, -1, -1, -1,\n",
       "       -1, -1, -1, -1, -1, -1, -1, -1, -1, -1, -1, -1, -1, -1, -1, -1, -1,\n",
       "       -1, -1, -1, -1, -1, -1, -1, -1, -1, -1, -1, -1, -1, -1, -1, -1, -1,\n",
       "       -1, -1, -1, -1, -1, -1, -1, -1, -1, -1, -1, -1, -1, -1, -1, -1, -1,\n",
       "       -1, -1, -1, -1, -1, -1, -1, -1, -1, -1, -1, -1, -1, -1, -1, -1, -1,\n",
       "       -1, -1, -1, -1, -1, -1, -1, -1, -1, -1, -1, -1, -1, -1, -1, -1, -1,\n",
       "       -1, -1, -1, -1, -1, -1, -1, -1, -1, -1, -1, -1, -1, -1, -1, -1, -1,\n",
       "       -1, -1, -1, -1, -1, -1, -1,  0,  0,  0,  0,  0,  0,  0,  1,  1,  1,\n",
       "        1,  1,  1,  1,  1,  1,  1,  1,  1,  1,  1,  1,  1,  1,  1,  1,  1,\n",
       "        1,  1,  1,  1,  1,  1,  1,  1,  1,  1,  1,  1,  1,  1,  1,  1,  1,\n",
       "        1,  1,  1,  1,  1,  1,  1,  1,  1,  1,  1,  1,  1,  1,  1,  1,  1,\n",
       "        1,  1,  1,  1,  1,  1,  1,  1,  1,  1,  1,  1,  1,  1,  1,  1,  1,\n",
       "        1,  1,  1,  1,  1,  1,  1,  1,  1,  1,  1,  1,  1,  1,  1,  1,  1,\n",
       "        1,  1,  1,  1,  1,  1,  1,  1,  1,  1,  1,  1,  1,  1,  1,  1,  1,\n",
       "        1,  1,  1,  1,  1,  1,  1,  1,  1,  1,  1,  1,  1,  1,  1,  1,  1,\n",
       "        1,  1,  1,  1,  1,  1,  1,  1,  1,  1,  1,  1,  1,  1,  1,  1,  1,\n",
       "        1,  1,  1,  1,  1,  1,  1,  1,  1,  1,  1,  1,  1,  1,  1,  1,  1,\n",
       "        1,  1,  1,  1,  1,  1,  1,  1,  1,  1,  1,  1,  1,  1,  1,  1,  1,\n",
       "        1,  1,  1,  1,  1,  1,  1,  1,  1,  1,  1,  1,  1,  1,  1,  1,  1,\n",
       "        1,  1,  1,  1,  1,  1,  1,  1,  1,  1,  1,  1,  1,  1,  1,  1,  1,\n",
       "        1,  1,  1,  1,  1,  1,  1,  1,  1,  1,  1,  1,  1,  1,  1,  1,  1,\n",
       "        1,  1,  1,  1,  1,  1,  1,  1,  1,  1,  1,  1,  1,  1,  1,  1,  1,\n",
       "        1,  1,  1,  1,  1,  1,  1,  1,  1,  1,  1,  1,  1,  1,  1,  1,  1,\n",
       "        1,  1,  1,  1,  1,  1,  1,  1,  1,  1,  1,  1,  1,  1,  1,  1,  1,\n",
       "        1,  1,  1,  1,  1,  1,  1,  1,  1,  1,  1,  1,  1,  1,  1,  1,  1,\n",
       "        1,  1,  1,  1,  1,  1,  1,  1,  1,  1,  1,  1,  1,  1,  1,  1,  1,\n",
       "        1,  1,  1,  1,  1,  1,  1,  1,  1,  1,  1,  1,  1,  1,  1,  1,  1,\n",
       "        1,  1,  1,  1,  1,  1,  1,  1,  1,  1,  1,  1,  1,  1,  1,  1,  1,\n",
       "        1,  1,  1,  1,  1,  1,  1,  1,  1,  1,  1,  1,  1,  1,  1,  1,  1,\n",
       "        1,  1,  1,  1,  1,  1,  1,  1,  1,  1,  1,  1,  1,  1,  1,  1,  1,\n",
       "        1,  1,  1,  1,  1,  1,  1,  1,  1,  1,  1,  1,  1,  1,  1,  1,  1,\n",
       "        1,  1,  1,  1,  1,  1,  1,  1,  1,  1,  1,  1,  1,  1,  1,  1,  1,\n",
       "        1,  1,  1,  1,  1,  1,  1,  1,  1,  1,  1,  1,  1,  1,  1,  1],\n",
       "      dtype=int64)"
      ]
     },
     "execution_count": 73,
     "metadata": {},
     "output_type": "execute_result"
    }
   ],
   "source": [
    "y_train"
   ]
  },
  {
   "cell_type": "code",
   "execution_count": null,
   "metadata": {},
   "outputs": [],
   "source": []
  }
 ],
 "metadata": {
  "kernelspec": {
   "display_name": "Python 3",
   "language": "python",
   "name": "python3"
  },
  "language_info": {
   "codemirror_mode": {
    "name": "ipython",
    "version": 3
   },
   "file_extension": ".py",
   "mimetype": "text/x-python",
   "name": "python",
   "nbconvert_exporter": "python",
   "pygments_lexer": "ipython3",
   "version": "3.8.3"
  }
 },
 "nbformat": 4,
 "nbformat_minor": 4
}
